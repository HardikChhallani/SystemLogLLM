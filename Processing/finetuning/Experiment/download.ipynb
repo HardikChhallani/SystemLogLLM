{
 "cells": [
  {
   "cell_type": "code",
   "execution_count": null,
   "id": "7d9a5897",
   "metadata": {},
   "outputs": [
    {
     "ename": "",
     "evalue": "",
     "output_type": "error",
     "traceback": [
      "\u001b[1;31mRunning cells with 'systemlogllm (Python 3.12.3)' requires the ipykernel package.\n",
      "\u001b[1;31mInstall 'ipykernel' into the Python environment. \n",
      "\u001b[1;31mCommand: '/home/hardik/SystemLogLLM/.venv/bin/python -m pip install ipykernel -U --force-reinstall'"
     ]
    }
   ],
   "source": [
    "# Filename: download_base_model.py\n",
    "import torch\n",
    "from transformers import AutoModelForCausalLM, AutoTokenizer\n",
    "import os\n",
    "\n",
    "model_id = \"Qwen/Qwen2-1.5B-Instruct\"\n",
    "base_model_path = \"model/qwen2-1.5b-base\" # Central location for the base model\n",
    "\n",
    "if not os.path.exists(base_model_path):\n",
    "    print(f\"Downloading and saving base model to {base_model_path}\")\n",
    "    model = AutoModelForCausalLM.from_pretrained(model_id, torch_dtype=\"auto\")\n",
    "    tokenizer = AutoTokenizer.from_pretrained(model_id)\n",
    "    \n",
    "    model.save_pretrained(base_model_path)\n",
    "    tokenizer.save_pretrained(base_model_path)\n",
    "    print(\"✅ Base model saved.\")\n",
    "else:\n",
    "    print(f\"✅ Base model already exists at {base_model_path}\")"
   ]
  },
  {
   "cell_type": "code",
   "execution_count": null,
   "id": "359b69e0",
   "metadata": {},
   "outputs": [
    {
     "ename": "",
     "evalue": "",
     "output_type": "error",
     "traceback": [
      "\u001b[1;31mRunning cells with 'systemlogllm (Python 3.12.3)' requires the ipykernel package.\n",
      "\u001b[1;31mInstall 'ipykernel' into the Python environment. \n",
      "\u001b[1;31mCommand: '/home/hardik/SystemLogLLM/.venv/bin/python -m pip install ipykernel -U --force-reinstall'"
     ]
    }
   ],
   "source": [
    "!pip insytall ipykernel -U --user --force-reinstall"
   ]
  },
  {
   "cell_type": "code",
   "execution_count": null,
   "id": "942bdef7",
   "metadata": {},
   "outputs": [],
   "source": []
  }
 ],
 "metadata": {
  "kernelspec": {
   "display_name": "systemlogllm",
   "language": "python",
   "name": "python3"
  },
  "language_info": {
   "name": "python",
   "version": "3.12.3"
  }
 },
 "nbformat": 4,
 "nbformat_minor": 5
}
